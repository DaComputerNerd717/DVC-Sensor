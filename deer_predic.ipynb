{
  "nbformat": 4,
  "nbformat_minor": 0,
  "metadata": {
    "colab": {
      "provenance": []
    },
    "kernelspec": {
      "name": "python3",
      "display_name": "Python 3"
    },
    "language_info": {
      "name": "python"
    }
  },
  "cells": [
    {
      "cell_type": "code",
      "source": [
        "import os\n",
        "import tensorflow as tf\n",
        "from tensorflow import keras\n",
        "from PIL import Image\n",
        "import numpy as np\n",
        "from skimage import transform\n",
        "\n",
        "def load(filename):\n",
        "   np_image = Image.open(filename)\n",
        "   np_image = np.array(np_image).astype('float32')/255\n",
        "   np_image = transform.resize(np_image, (64, 64, 3))\n",
        "   np_image = np.expand_dims(np_image, axis=0)\n",
        "   return np_image\n",
        "#load model\n",
        "model = tf.keras.models.load_model('/content/model_46.h5')\n",
        "#convert image to tensor\n",
        "image = load('/content/deer.jpg')\n",
        "#prediction\n",
        "result = model(image)\n",
        "model.summary()\n",
        "\n",
        "a=str(result[0])\n",
        "a=a.removeprefix('tf.Tensor([')\n",
        "a=a.removesuffix('], shape=(2,), dtype=float32)')\n",
        "a=a.split()\n",
        "\n",
        "if float(a[0])>float(a[1]):\n",
        "  mclass = \" - Deer\"\n",
        "else:\n",
        "  mclass = \" - Not deer\"\n",
        "print(\"Image - deer.jpg \\n\"+a[0]+\" \"+a[1]+mclass)\n",
        "print()\n",
        "\n",
        "image = load('/content/notdeer.jpg')\n",
        "result = model(image)\n",
        "b=str(result[0])\n",
        "b=b.removeprefix('tf.Tensor([')\n",
        "b=b.removesuffix('], shape=(2,), dtype=float32)')\n",
        "b=b.split()\n",
        "\n",
        "if float(b[0])>float(b[1]):\n",
        "  mclass = \" - Deer\"\n",
        "else:\n",
        "  mclass = \" - Not deer\"\n",
        "print(\"Image - notdeer.jpg \\n\"+b[0]+\" \"+b[1]+mclass)"
      ],
      "metadata": {
        "id": "klrr19z0pyB4",
        "colab": {
          "base_uri": "https://localhost:8080/"
        },
        "outputId": "ad7638ab-34e8-4679-fecc-0fd035407d5a"
      },
      "execution_count": 6,
      "outputs": [
        {
          "output_type": "stream",
          "name": "stdout",
          "text": [
            "Model: \"model_46\"\n",
            "_________________________________________________________________\n",
            " Layer (type)                Output Shape              Param #   \n",
            "=================================================================\n",
            " input_50 (InputLayer)       [(None, 64, 64, 3)]       0         \n",
            "                                                                 \n",
            " sequential_49 (Sequential)  (None, None, None, None   0         \n",
            "                             )                                   \n",
            "                                                                 \n",
            " rescaling_49 (Rescaling)    (None, 64, 64, 3)         0         \n",
            "                                                                 \n",
            " conv2d_78 (Conv2D)          (None, 62, 62, 3)         84        \n",
            "                                                                 \n",
            " max_pooling2d_39 (MaxPooli  (None, 31, 31, 3)         0         \n",
            " ng2D)                                                           \n",
            "                                                                 \n",
            " dropout_77 (Dropout)        (None, 31, 31, 3)         0         \n",
            "                                                                 \n",
            " conv2d_79 (Conv2D)          (None, 29, 29, 5)         140       \n",
            "                                                                 \n",
            " max_pooling2d_40 (MaxPooli  (None, 14, 14, 5)         0         \n",
            " ng2D)                                                           \n",
            "                                                                 \n",
            " dropout_78 (Dropout)        (None, 14, 14, 5)         0         \n",
            "                                                                 \n",
            " flatten_47 (Flatten)        (None, 980)               0         \n",
            "                                                                 \n",
            " dense_47 (Dense)            (None, 2)                 1962      \n",
            "                                                                 \n",
            "=================================================================\n",
            "Total params: 2186 (8.54 KB)\n",
            "Trainable params: 2186 (8.54 KB)\n",
            "Non-trainable params: 0 (0.00 Byte)\n",
            "_________________________________________________________________\n",
            "Image - deer.jpg \n",
            "0.53538626 0.46515548 - Deer\n",
            "\n",
            "Image - notdeer.jpg \n",
            "0.47124985 0.5275959 - Not deer\n"
          ]
        }
      ]
    },
    {
      "cell_type": "markdown",
      "source": [],
      "metadata": {
        "id": "Jd1qnVwpGtox"
      }
    }
  ]
}