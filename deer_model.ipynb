{
  "cells": [
    {
      "cell_type": "code",
      "source": [
        "!unzip -qq deerzcomb.zip"
      ],
      "metadata": {
        "id": "Mh2ZwE8FKUcN"
      },
      "execution_count": null,
      "outputs": []
    },
    {
      "cell_type": "code",
      "source": [
        "import matplotlib.pyplot as plt\n",
        "import os, shutil, pathlib\n",
        "from tensorflow.keras.utils import image_dataset_from_directory\n",
        "import numpy as np\n",
        "import tensorflow as tf\n",
        "import keras\n",
        "from tensorflow.keras import layers\n",
        "\n",
        "dataset = tf.keras.preprocessing.image_dataset_from_directory(\n",
        "    \"/content/deerzcomb/deerz/\", image_size=(256, 256), batch_size=64\n",
        ")"
      ],
      "metadata": {
        "id": "T1w3p7bOIezK"
      },
      "execution_count": null,
      "outputs": []
    },
    {
      "cell_type": "code",
      "source": [
        "for data, labels in dataset.take(1):\n",
        "    print(data.shape)\n",
        "    print(labels.shape)"
      ],
      "metadata": {
        "id": "_ngCOHTANKcX"
      },
      "execution_count": null,
      "outputs": []
    },
    {
      "cell_type": "code",
      "source": [
        "import tensorflow as tf\n",
        "from tensorflow import keras\n",
        "from tensorflow.keras import layers\n",
        "!ls deerzcomb/"
      ],
      "metadata": {
        "id": "2uhuOpP3EqhK"
      },
      "execution_count": null,
      "outputs": []
    },
    {
      "cell_type": "code",
      "source": [
        "import matplotlib.pyplot as plt\n",
        "\n",
        "class_names = dataset.class_names\n",
        "plt.figure(figsize=(10, 10))\n",
        "for images, labels in dataset.take(1):\n",
        "    for i in range(4):\n",
        "        ax = plt.subplot(2, 2, i + 1)\n",
        "        plt.imshow(images[i].numpy().astype(\"uint8\"))\n",
        "        plt.title(class_names[labels[i]])\n",
        "        plt.axis(\"off\")"
      ],
      "metadata": {
        "id": "2t-ESqyDM5cu"
      },
      "execution_count": null,
      "outputs": []
    },
    {
      "cell_type": "code",
      "source": [
        "import matplotlib.pyplot as plt\n",
        "import os, shutil, pathlib\n",
        "from tensorflow.keras.utils import image_dataset_from_directory\n",
        "import numpy as np\n",
        "import tensorflow as tf\n",
        "import keras\n",
        "from tensorflow.keras import layers\n",
        "\n",
        "inputs = keras.Input(shape=(64,64,3))\n",
        "data_augmentation = keras.Sequential(\n",
        "    [\n",
        "        layers.RandomFlip(\"horizontal\"),\n",
        "    ]\n",
        ")\n",
        "\n",
        "from tensorflow.keras import regularizers\n",
        "\n",
        "x = data_augmentation(inputs)\n",
        "x = layers.Rescaling(1./255)(x)\n",
        "x = layers.Conv2D(filters=3, kernel_size=3, activation=\"relu\")(x)\n",
        "x = layers.MaxPooling2D(2)(x)\n",
        "x = layers.Dropout(0.4)(x)\n",
        "x = layers.Conv2D(filters=5, kernel_size=3, activation=\"relu\")(x)\n",
        "x = layers.MaxPooling2D(2)(x)\n",
        "x = layers.Dropout(0.4)(x)\n",
        "x = layers.Flatten()(x)\n",
        "outputs = layers.Dense(2, activation=\"sigmoid\")(x)\n",
        "model = keras.Model(inputs=inputs, outputs=outputs)\n",
        "\n",
        "model.summary()\n",
        "\n",
        "epochs = 15\n",
        "\n",
        "learning_rate = 0.001\n",
        "\n",
        "opt = keras.optimizers.Adam(learning_rate=learning_rate)\n",
        "model.compile(loss=\"binary_crossentropy\",\n",
        "              optimizer=opt,\n",
        "              metrics=[\"accuracy\"])\n",
        "\n",
        "from tensorflow.keras.utils import image_dataset_from_directory\n",
        "\n",
        "from tensorflow.keras.preprocessing.image import ImageDataGenerator\n",
        "\n",
        "new_base_dir = pathlib.Path(\"/content/deerzcomb/\")\n",
        "\n",
        "t_datagen = ImageDataGenerator(\n",
        "    rescale=1./255,\n",
        "    rotation_range=40,\n",
        "    width_shift_range=0.2,\n",
        "    height_shift_range=0.2,\n",
        "    shear_range=0.2,\n",
        "    zoom_range=0.2,\n",
        "    validation_split=0.2\n",
        "    )\n",
        "tr_datagen = ImageDataGenerator(\n",
        "    rescale=1./255,\n",
        "    rotation_range=40,\n",
        "    width_shift_range=0.2,\n",
        "    height_shift_range=0.2,\n",
        "    shear_range=0.2,\n",
        "    zoom_range=0.2\n",
        "    )\n",
        "v_datagen = ImageDataGenerator(\n",
        "    rescale=1./255,\n",
        "    rotation_range=40,\n",
        "    width_shift_range=0.2,\n",
        "    height_shift_range=0.2,\n",
        "    shear_range=0.2,\n",
        "    zoom_range=0.2\n",
        "    )\n",
        "\n",
        "\n",
        "train_ds = tr_datagen.flow_from_directory(\n",
        "    directory=r\"deerzcomb/train/\",\n",
        "    target_size=(64,64),\n",
        "    batch_size=128,\n",
        "    seed=12\n",
        ")\n",
        "\n",
        "valid_ds = v_datagen.flow_from_directory(\n",
        "    directory=r\"deerzcomb/valid/\",\n",
        "    target_size=(64, 64),\n",
        "    batch_size=128,\n",
        "    seed=12\n",
        ")\n",
        "\n",
        "test_ds = t_datagen.flow_from_directory(\n",
        "    directory=r\"deerzcomb/test/\",\n",
        "    target_size=(64, 64),\n",
        "    batch_size=128,\n",
        "    seed=12\n",
        "\n",
        ")\n",
        "\n",
        "\n",
        "callbacks = [\n",
        "    keras.callbacks.ModelCheckpoint(\n",
        "        filepath=\"deer1212.keras\",\n",
        "        monitor=\"val_loss\")\n",
        "]\n",
        "\n",
        "history = model.fit(\n",
        "    train_ds,\n",
        "    epochs=epochs,\n",
        "    validation_data=valid_ds,\n",
        "    callbacks=callbacks,\n",
        ")\n"
      ],
      "metadata": {
        "id": "c860ROImMJtB"
      },
      "execution_count": null,
      "outputs": []
    },
    {
      "cell_type": "code",
      "source": [
        "from PIL import Image\n",
        "import numpy as np\n",
        "from skimage import transform\n",
        "def load(filename):\n",
        "   np_image = Image.open(filename)\n",
        "   np_image = np.array(np_image).astype('uint8')/255\n",
        "   np_image = transform.resize(np_image, (64, 64, 3))\n",
        "   np_image = np.expand_dims(np_image, axis=0)\n",
        "   return np_image\n",
        "model.summary()\n",
        "\n",
        "image = load('/content/IMG_1296 (1).jpg')\n",
        "model.predict(image)"
      ],
      "metadata": {
        "id": "klrr19z0pyB4"
      },
      "execution_count": null,
      "outputs": []
    },
    {
      "cell_type": "code",
      "source": [
        "model.save(\"model_46.h5\")"
      ],
      "metadata": {
        "id": "r1LMwM04FrlB"
      },
      "execution_count": null,
      "outputs": []
    }
  ],
  "metadata": {
    "colab": {
      "provenance": [],
      "gpuType": "V100"
    },
    "kernelspec": {
      "display_name": "Python 3",
      "name": "python3"
    },
    "accelerator": "GPU"
  },
  "nbformat": 4,
  "nbformat_minor": 0
}